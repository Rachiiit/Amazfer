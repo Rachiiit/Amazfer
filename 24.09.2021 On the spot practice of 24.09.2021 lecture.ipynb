{
 "cells": [
  {
   "cell_type": "markdown",
   "id": "d5739189",
   "metadata": {},
   "source": [
    "# Fuctions"
   ]
  },
  {
   "cell_type": "markdown",
   "id": "0d1613d6",
   "metadata": {},
   "source": [
    "##### Syntax example:"
   ]
  },
  {
   "cell_type": "code",
   "execution_count": 8,
   "id": "03dd07e5",
   "metadata": {},
   "outputs": [],
   "source": [
    "#Function definition\n",
    "def add():\n",
    "    print(\"This is a add function\")\n",
    "    x=int(input(\"Enter\"))\n",
    "    y=9\n",
    "    a=x+y\n",
    "    print(a)"
   ]
  },
  {
   "cell_type": "code",
   "execution_count": 9,
   "id": "436b3240",
   "metadata": {},
   "outputs": [
    {
     "name": "stdout",
     "output_type": "stream",
     "text": [
      "This is a add function\n",
      "Enter4\n",
      "13\n"
     ]
    }
   ],
   "source": [
    "add() #function call"
   ]
  },
  {
   "cell_type": "code",
   "execution_count": 10,
   "id": "fca4d842",
   "metadata": {},
   "outputs": [
    {
     "name": "stdout",
     "output_type": "stream",
     "text": [
      "Rossy\n",
      "This is a add function\n",
      "Enter5\n",
      "14\n",
      "Kassi\n"
     ]
    }
   ],
   "source": [
    "print(\"Rossy\")\n",
    "add() \n",
    "print(\"Kassi\")"
   ]
  },
  {
   "cell_type": "markdown",
   "id": "83a272fe",
   "metadata": {},
   "source": [
    "## Scope"
   ]
  },
  {
   "cell_type": "markdown",
   "id": "9b4795df",
   "metadata": {},
   "source": [
    "### Local and global"
   ]
  },
  {
   "cell_type": "code",
   "execution_count": 28,
   "id": "3e99c35d",
   "metadata": {},
   "outputs": [],
   "source": [
    "#Variable is placeholder\n",
    "#Function definition\n",
    "def some(x,y,f): \n",
    "    z=x+y-f #even if we write a instead of z, it won't have a problrm\n",
    "    print(z)\n",
    "    "
   ]
  },
  {
   "cell_type": "code",
   "execution_count": 30,
   "id": "dc61dfbb",
   "metadata": {},
   "outputs": [
    {
     "name": "stdout",
     "output_type": "stream",
     "text": [
      "-1\n"
     ]
    }
   ],
   "source": [
    "def main(): #Calling function\n",
    "    a=4\n",
    "    b=2\n",
    "    c=7\n",
    "    some (a,b,c) #Function call\n",
    "main()\n",
    "# arguments inside parenthesis should be same."
   ]
  },
  {
   "cell_type": "code",
   "execution_count": 33,
   "id": "434bc245",
   "metadata": {},
   "outputs": [],
   "source": [
    "def some(x,y,f): \n",
    "    z=x+y-f #even if we write a instead of z, it won't have a problrm\n",
    "    print(\"z\",z)\n",
    "    return z,x,y"
   ]
  },
  {
   "cell_type": "code",
   "execution_count": 34,
   "id": "789ddb58",
   "metadata": {},
   "outputs": [
    {
     "name": "stdout",
     "output_type": "stream",
     "text": [
      "z -1\n",
      "c -1\n"
     ]
    }
   ],
   "source": [
    "def main(): #Calling function\n",
    "    a=4\n",
    "    b=2\n",
    "    c=7\n",
    "    c,d,e=some(a,b,c)\n",
    "    print(\"c\",c)\n",
    "    return\n",
    "main()"
   ]
  },
  {
   "cell_type": "code",
   "execution_count": 35,
   "id": "df663fa5",
   "metadata": {},
   "outputs": [
    {
     "data": {
      "text/plain": [
       "{'Rossy': 'Ladki', 'Roshitha': 'girl'}"
      ]
     },
     "execution_count": 35,
     "metadata": {},
     "output_type": "execute_result"
    }
   ],
   "source": [
    "d={'Rossy':'Ladki','Roshitha':'girl'}\n",
    "d"
   ]
  },
  {
   "cell_type": "code",
   "execution_count": null,
   "id": "c593df48",
   "metadata": {},
   "outputs": [],
   "source": [
    "while(1):\n",
    "    f="
   ]
  }
 ],
 "metadata": {
  "kernelspec": {
   "display_name": "Python 3 (ipykernel)",
   "language": "python",
   "name": "python3"
  },
  "language_info": {
   "codemirror_mode": {
    "name": "ipython",
    "version": 3
   },
   "file_extension": ".py",
   "mimetype": "text/x-python",
   "name": "python",
   "nbconvert_exporter": "python",
   "pygments_lexer": "ipython3",
   "version": "3.9.6"
  }
 },
 "nbformat": 4,
 "nbformat_minor": 5
}
